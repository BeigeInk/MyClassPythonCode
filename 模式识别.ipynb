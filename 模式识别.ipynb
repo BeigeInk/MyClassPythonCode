{
 "cells": [
  {
   "cell_type": "code",
   "execution_count": 29,
   "id": "07d71db3",
   "metadata": {},
   "outputs": [],
   "source": [
    "import pandas as pd\n",
    "import numpy as np"
   ]
  },
  {
   "cell_type": "code",
   "execution_count": 42,
   "id": "9fcbe292",
   "metadata": {},
   "outputs": [],
   "source": [
    "\n",
    "K=2\n",
    "M=2\n",
    "epsi="
   ]
  },
  {
   "cell_type": "code",
   "execution_count": 61,
   "id": "2f54cc7e",
   "metadata": {},
   "outputs": [
    {
     "data": {
      "text/plain": [
       "2"
      ]
     },
     "execution_count": 61,
     "metadata": {},
     "output_type": "execute_result"
    }
   ],
   "source": [
    "#依据先验计算隶属度\n",
    "u=np.array([[0.9,0.8,0.7,0.1],[0.1,0.2,0.3,0.9]])\n",
    "x=np.array([[0,0],[0,1],[3,1],[3,2]])\n",
    "t=u[:,3]\n",
    "int(np.where(t==np.max(t))[0])+1"
   ]
  },
  {
   "cell_type": "code",
   "execution_count": 40,
   "id": "ec9abbf6",
   "metadata": {},
   "outputs": [],
   "source": [
    "def Z(u,x,i):\n",
    "    temp_z=sum(u[i][j]**M*x[j].T for j in range(len(u[0])))/sum(u[i][j]**M for j in range(len(u[0])))\n",
    "    return temp_z\n",
    "z=[Z(0),Z(1)]"
   ]
  },
  {
   "cell_type": "code",
   "execution_count": 44,
   "id": "a7843014",
   "metadata": {},
   "outputs": [
    {
     "name": "stdout",
     "output_type": "stream",
     "text": [
      "5.144641683103221\n",
      "0.7340720221606647\n"
     ]
    },
    {
     "data": {
      "text/plain": [
       "0.875130503207978"
      ]
     },
     "execution_count": 44,
     "metadata": {},
     "output_type": "execute_result"
    }
   ],
   "source": [
    "def Dis(x,y):\n",
    "    return (x[0]-y[0])**2+(x[1]-y[1])**2\n",
    "def U(z,i,j): #dij\n",
    "    return 1/sum([(Dis(x[j],z[i])/Dis(x[j],z[p])) for p in range(K)])\n",
    "z=[Z(u,x,0),Z(u,x,1)]\n",
    "U(z,1,2)#ui-1j-1"
   ]
  },
  {
   "cell_type": "code",
   "execution_count": 48,
   "id": "ace8ffb8",
   "metadata": {},
   "outputs": [
    {
     "name": "stdout",
     "output_type": "stream",
     "text": [
      "0.9395134779750162\n",
      "11.470914127423823\n",
      "0.7600262984878366\n",
      "8.786703601108034\n",
      "5.144641683103221\n",
      "0.7340720221606647\n",
      "6.965154503616041\n",
      "0.04986149584487538\n",
      "0.9395134779750162\n",
      "11.470914127423823\n",
      "0.7600262984878366\n",
      "8.786703601108034\n",
      "5.144641683103221\n",
      "0.7340720221606647\n",
      "6.965154503616041\n",
      "0.04986149584487538\n"
     ]
    }
   ],
   "source": [
    "ULp1=np.array([[U(z,i,j) for j in range(len(x))] for i in range(len(x[0]))])"
   ]
  },
  {
   "cell_type": "code",
   "execution_count": 52,
   "id": "8e5b88a5",
   "metadata": {},
   "outputs": [
    {
     "data": {
      "text/plain": [
       "0.5751305032079781"
      ]
     },
     "execution_count": 52,
     "metadata": {},
     "output_type": "execute_result"
    }
   ],
   "source": [
    "ULp1\n",
    "np.max(np.abs(ULp1-u))\n"
   ]
  },
  {
   "cell_type": "code",
   "execution_count": 53,
   "id": "4fa6642b",
   "metadata": {},
   "outputs": [
    {
     "data": {
      "text/plain": [
       "(array([0]),)"
      ]
     },
     "execution_count": 53,
     "metadata": {},
     "output_type": "execute_result"
    }
   ],
   "source": [
    "np.where(max(u[1,:]))"
   ]
  },
  {
   "cell_type": "code",
   "execution_count": null,
   "id": "d57f47c1",
   "metadata": {},
   "outputs": [],
   "source": []
  }
 ],
 "metadata": {
  "kernelspec": {
   "display_name": "Python 3",
   "language": "python",
   "name": "python3"
  },
  "language_info": {
   "codemirror_mode": {
    "name": "ipython",
    "version": 3
   },
   "file_extension": ".py",
   "mimetype": "text/x-python",
   "name": "python",
   "nbconvert_exporter": "python",
   "pygments_lexer": "ipython3",
   "version": "3.8.8"
  }
 },
 "nbformat": 4,
 "nbformat_minor": 5
}
